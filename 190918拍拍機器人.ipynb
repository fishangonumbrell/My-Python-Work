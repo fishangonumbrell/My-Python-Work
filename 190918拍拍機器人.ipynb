{
 "cells": [
  {
   "cell_type": "code",
   "execution_count": 1,
   "metadata": {},
   "outputs": [],
   "source": [
    "%matplotlib inline\n",
    "import numpy as np\n",
    "import matplotlib.pyplot as plt\n",
    "import pandas as pd\n",
    "import webbrowser"
   ]
  },
  {
   "cell_type": "code",
   "execution_count": 3,
   "metadata": {},
   "outputs": [
    {
     "name": "stdout",
     "output_type": "stream",
     "text": [
      "你好(ゝ∀･)\n",
      "你叫什麼名字HTY\n",
      "HTY我們來聊天吧\n",
      "HTY,你今天Happy嗎?\n",
      "是or否是\n",
      "真棒！那你不要頹了去做別的事，掰掰！\n"
     ]
    }
   ],
   "source": [
    "pirobot=0\n",
    "while (pirobot!=-1):\n",
    "    if(pirobot==0):\n",
    "        print(\"你好(ゝ∀･)\")\n",
    "        name=input(\"你叫什麼名字\")\n",
    "        print(name+\"我們來聊天吧\")\n",
    "        pirobot=pirobot+1\n",
    "    elif(pirobot==1):\n",
    "        print(name+\",你今天Happy嗎?\")\n",
    "        mood=input(\"是or否\")\n",
    "        if(mood==\"是\"):\n",
    "            print(\"真棒！那你不要頹了去做別的事，掰掰！\")\n",
    "            pirobot=-1\n",
    "        elif(mood==\"否\"):\n",
    "            print(\"拍拍~能告訴我怎麼了嗎\")\n",
    "            pirobot=pirobot+1\n",
    "    elif(pirobot==6):\n",
    "        print(\"唉~感覺我拍拍也沒用了，送你一首歌吧，掰掰!\")\n",
    "        url=\"https://www.youtube.com/watch?v=vHS9E6JFja8\"\n",
    "        webbrowser.open(url)\n",
    "        pirobot=-1\n",
    "    else:\n",
    "        msg=input(\">>\")\n",
    "        print(\"拍拍~\")\n",
    "        pirobot=pirobot+1"
   ]
  },
  {
   "cell_type": "code",
   "execution_count": null,
   "metadata": {},
   "outputs": [],
   "source": []
  }
 ],
 "metadata": {
  "kernelspec": {
   "display_name": "Python 3",
   "language": "python",
   "name": "python3"
  },
  "language_info": {
   "codemirror_mode": {
    "name": "ipython",
    "version": 3
   },
   "file_extension": ".py",
   "mimetype": "text/x-python",
   "name": "python",
   "nbconvert_exporter": "python",
   "pygments_lexer": "ipython3",
   "version": "3.7.3"
  }
 },
 "nbformat": 4,
 "nbformat_minor": 2
}
