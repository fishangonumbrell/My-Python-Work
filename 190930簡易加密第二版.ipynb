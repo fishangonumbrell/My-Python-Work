{
 "cells": [
  {
   "cell_type": "markdown",
   "metadata": {},
   "source": [
    "### 把輸入的訊息做加k的加密"
   ]
  },
  {
   "cell_type": "code",
   "execution_count": 7,
   "metadata": {},
   "outputs": [
    {
     "name": "stdout",
     "output_type": "stream",
     "text": [
      "請輸入你的訊息: I am not a robot.\n",
      "請輸入想加密的位移數: 100\n",
      ">> oOaobchoOofcPchp\n"
     ]
    }
   ],
   "source": [
    "element=list(\"ABCDEFGHIJKLMNOPQRSTUVWXYZabcdefghijklmnopqrstuvwxyz .?!\")\n",
    "code=[]\n",
    "message=list(input(\"請輸入你的訊息: \"))\n",
    "k=int(input(\"請輸入想加密的位移數: \"))\n",
    "for i in range(0,len(message)):\n",
    "    index=element.index(message[i])+k\n",
    "    while index>=56:\n",
    "        index=index-56\n",
    "    code.append(element[index])\n",
    "code=\"\".join(code)\n",
    "print(\">>\"+code)"
   ]
  },
  {
   "cell_type": "code",
   "execution_count": null,
   "metadata": {},
   "outputs": [],
   "source": []
  },
  {
   "cell_type": "code",
   "execution_count": null,
   "metadata": {},
   "outputs": [],
   "source": []
  },
  {
   "cell_type": "code",
   "execution_count": null,
   "metadata": {},
   "outputs": [],
   "source": []
  }
 ],
 "metadata": {
  "kernelspec": {
   "display_name": "Python 3",
   "language": "python",
   "name": "python3"
  },
  "language_info": {
   "codemirror_mode": {
    "name": "ipython",
    "version": 3
   },
   "file_extension": ".py",
   "mimetype": "text/x-python",
   "name": "python",
   "nbconvert_exporter": "python",
   "pygments_lexer": "ipython3",
   "version": "3.7.3"
  }
 },
 "nbformat": 4,
 "nbformat_minor": 2
}
