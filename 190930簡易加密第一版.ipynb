{
 "cells": [
  {
   "cell_type": "markdown",
   "metadata": {},
   "source": [
    "### 把\"I am a robot\"做加1的加密"
   ]
  },
  {
   "cell_type": "code",
   "execution_count": 2,
   "metadata": {},
   "outputs": [
    {
     "name": "stdout",
     "output_type": "stream",
     "text": [
      ">>JAbnAbAspcpu\n"
     ]
    }
   ],
   "source": [
    "element=list(\"ABCDEFGHIJKLMNOPQRSTUVWXYZabcdefghijklmnopqrstuvwxyz \")\n",
    "code=[]\n",
    "message=list(\"I am a robot\")\n",
    "for i in range(0,12):\n",
    "    index=element.index(message[i])+1\n",
    "    if index==53:\n",
    "        index=0\n",
    "    else:\n",
    "        index=index\n",
    "    code.append(element[index])\n",
    "code=\"\".join(code)\n",
    "print(\">>\"+code)"
   ]
  },
  {
   "cell_type": "code",
   "execution_count": null,
   "metadata": {},
   "outputs": [],
   "source": []
  }
 ],
 "metadata": {
  "kernelspec": {
   "display_name": "Python 3",
   "language": "python",
   "name": "python3"
  },
  "language_info": {
   "codemirror_mode": {
    "name": "ipython",
    "version": 3
   },
   "file_extension": ".py",
   "mimetype": "text/x-python",
   "name": "python",
   "nbconvert_exporter": "python",
   "pygments_lexer": "ipython3",
   "version": "3.7.3"
  }
 },
 "nbformat": 4,
 "nbformat_minor": 2
}
